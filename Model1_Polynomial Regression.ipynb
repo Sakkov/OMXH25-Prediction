{
 "cells": [
  {
   "cell_type": "markdown",
   "metadata": {},
   "source": [
    "# Polynomial Regression\n",
    "\n",
    "The goal of this notebook is to empirically find the best polynomial regression by testing different degrees. "
   ]
  },
  {
   "cell_type": "code",
   "execution_count": 143,
   "metadata": {},
   "outputs": [],
   "source": [
    "import pandas as pd\n",
    "from matplotlib import pyplot as plt\n",
    "from sklearn.model_selection import train_test_split\n",
    "from sklearn.preprocessing import PolynomialFeatures\n",
    "from sklearn.linear_model import LinearRegression\n",
    "from sklearn.metrics import mean_squared_error"
   ]
  },
  {
   "cell_type": "code",
   "execution_count": 144,
   "metadata": {},
   "outputs": [
    {
     "data": {
      "text/html": [
       "<div>\n",
       "<style scoped>\n",
       "    .dataframe tbody tr th:only-of-type {\n",
       "        vertical-align: middle;\n",
       "    }\n",
       "\n",
       "    .dataframe tbody tr th {\n",
       "        vertical-align: top;\n",
       "    }\n",
       "\n",
       "    .dataframe thead th {\n",
       "        text-align: right;\n",
       "    }\n",
       "</style>\n",
       "<table border=\"1\" class=\"dataframe\">\n",
       "  <thead>\n",
       "    <tr style=\"text-align: right;\">\n",
       "      <th></th>\n",
       "      <th>Time</th>\n",
       "      <th>Cases</th>\n",
       "      <th>Close</th>\n",
       "      <th>next_Close</th>\n",
       "    </tr>\n",
       "  </thead>\n",
       "  <tbody>\n",
       "    <tr>\n",
       "      <th>0</th>\n",
       "      <td>0</td>\n",
       "      <td>0</td>\n",
       "      <td>4352.100098</td>\n",
       "      <td>4315.410156</td>\n",
       "    </tr>\n",
       "    <tr>\n",
       "      <th>1</th>\n",
       "      <td>1</td>\n",
       "      <td>0</td>\n",
       "      <td>4324.770020</td>\n",
       "      <td>4322.740234</td>\n",
       "    </tr>\n",
       "    <tr>\n",
       "      <th>2</th>\n",
       "      <td>2</td>\n",
       "      <td>0</td>\n",
       "      <td>4344.259766</td>\n",
       "      <td>4300.080078</td>\n",
       "    </tr>\n",
       "    <tr>\n",
       "      <th>3</th>\n",
       "      <td>5</td>\n",
       "      <td>0</td>\n",
       "      <td>4246.680176</td>\n",
       "      <td>4041.560059</td>\n",
       "    </tr>\n",
       "    <tr>\n",
       "      <th>4</th>\n",
       "      <td>6</td>\n",
       "      <td>0</td>\n",
       "      <td>4323.930176</td>\n",
       "      <td>3294.219971</td>\n",
       "    </tr>\n",
       "    <tr>\n",
       "      <th>...</th>\n",
       "      <td>...</td>\n",
       "      <td>...</td>\n",
       "      <td>...</td>\n",
       "      <td>...</td>\n",
       "    </tr>\n",
       "    <tr>\n",
       "      <th>500</th>\n",
       "      <td>756</td>\n",
       "      <td>592765</td>\n",
       "      <td>5229.529785</td>\n",
       "      <td>5375.669922</td>\n",
       "    </tr>\n",
       "    <tr>\n",
       "      <th>501</th>\n",
       "      <td>757</td>\n",
       "      <td>600718</td>\n",
       "      <td>5151.890137</td>\n",
       "      <td>5375.669922</td>\n",
       "    </tr>\n",
       "    <tr>\n",
       "      <th>502</th>\n",
       "      <td>758</td>\n",
       "      <td>605046</td>\n",
       "      <td>5115.390137</td>\n",
       "      <td>5375.669922</td>\n",
       "    </tr>\n",
       "    <tr>\n",
       "      <th>503</th>\n",
       "      <td>769</td>\n",
       "      <td>657443</td>\n",
       "      <td>5595.779785</td>\n",
       "      <td>5375.669922</td>\n",
       "    </tr>\n",
       "    <tr>\n",
       "      <th>504</th>\n",
       "      <td>770</td>\n",
       "      <td>658559</td>\n",
       "      <td>5288.850098</td>\n",
       "      <td>5375.669922</td>\n",
       "    </tr>\n",
       "  </tbody>\n",
       "</table>\n",
       "<p>505 rows × 4 columns</p>\n",
       "</div>"
      ],
      "text/plain": [
       "     Time   Cases        Close   next_Close\n",
       "0       0       0  4352.100098  4315.410156\n",
       "1       1       0  4324.770020  4322.740234\n",
       "2       2       0  4344.259766  4300.080078\n",
       "3       5       0  4246.680176  4041.560059\n",
       "4       6       0  4323.930176  3294.219971\n",
       "..    ...     ...          ...          ...\n",
       "500   756  592765  5229.529785  5375.669922\n",
       "501   757  600718  5151.890137  5375.669922\n",
       "502   758  605046  5115.390137  5375.669922\n",
       "503   769  657443  5595.779785  5375.669922\n",
       "504   770  658559  5288.850098  5375.669922\n",
       "\n",
       "[505 rows x 4 columns]"
      ]
     },
     "execution_count": 144,
     "metadata": {},
     "output_type": "execute_result"
    }
   ],
   "source": [
    "# Import data\n",
    "df = pd.read_csv(\"cleaned_data.csv\")\n",
    "\n",
    "df"
   ]
  },
  {
   "cell_type": "code",
   "execution_count": 145,
   "metadata": {},
   "outputs": [],
   "source": [
    "\"\"\"\n",
    "Selecting the features(X) and the label(y)\n",
    "    Label: \"Close\"\n",
    "    Features: \"Time\", \"Cases\", \"old_Close\"\n",
    "\"\"\"\n",
    "\n",
    "y = df[\"next_Close\"].to_numpy()\n",
    "X = df[[\"Time\",\"Cases\",\"Close\"]].to_numpy().reshape(-1,3)"
   ]
  },
  {
   "cell_type": "code",
   "execution_count": 146,
   "metadata": {},
   "outputs": [],
   "source": [
    "# Split the dataset into a training set and a validation set\n",
    "X_train, X_val, y_train, y_val = train_test_split(X, y, test_size=0.33, random_state=42) #The answer\n",
    "\n",
    "# Define a list of polynomial degrees\n",
    "degrees = list(range(1,6))\n",
    "\n",
    "# These variables are for storing the errors for each polynomial degree\n",
    "tr_errors = []\n",
    "val_errors = []\n",
    "\n",
    "# Loop over the degrees\n",
    "for i, degree in enumerate(degrees):\n",
    "    lin_regr = LinearRegression(fit_intercept=False)\n",
    "\n",
    "    poly = PolynomialFeatures(degree=degree)\n",
    "    X_train_poly = poly.fit_transform(X_train)\n",
    "    lin_regr.fit(X_train_poly, y_train)\n",
    "\n",
    "    y_pred_train = lin_regr.predict(X_train_poly)\n",
    "    tr_error = mean_squared_error(y_train, y_pred_train)\n",
    "    \n",
    "    X_val_poly = poly.transform(X_val)\n",
    "    y_pred_val = lin_regr.predict(X_val_poly)\n",
    "    val_error = mean_squared_error(y_val, y_pred_val)\n",
    "\n",
    "    tr_errors.append(tr_error)\n",
    "    val_errors.append(val_error)\n",
    "\n",
    "    \n",
    "\n"
   ]
  },
  {
   "cell_type": "code",
   "execution_count": 147,
   "metadata": {},
   "outputs": [
    {
     "name": "stdout",
     "output_type": "stream",
     "text": [
      "Degree    Training error      Validation error    \n",
      "1         133833              93704               \n",
      "2         117338              81644               \n",
      "3         113148              77506               \n",
      "4         6038363             1022774301          \n",
      "5         43239974            24826759334         \n"
     ]
    }
   ],
   "source": [
    "print(\"{:<10s}{:<20s}{:<20s}\".format(\"Degree\", \"Training error\", \"Validation error\"))\n",
    "for i in range(len(degrees)):\n",
    "    print(\"{:<10d}{:<20.0f}{:<20.0f}\".format(degrees[i], tr_errors[i], val_errors[i]))"
   ]
  },
  {
   "cell_type": "code",
   "execution_count": 148,
   "metadata": {},
   "outputs": [
    {
     "data": {
      "image/png": "[encoded data removed]",
      "text/plain": [
       "<Figure size 864x720 with 1 Axes>"
      ]
     },
     "metadata": {
      "needs_background": "light"
     },
     "output_type": "display_data"
    }
   ],
   "source": [
    "plt.figure(figsize=(12, 10))\n",
    "\n",
    "plt.plot(degrees, tr_errors, label = 'Train')\n",
    "plt.plot(degrees, val_errors,label = 'Validation')\n",
    "plt.legend(loc = 'upper left')\n",
    "\n",
    "plt.xlabel('Degree')\n",
    "plt.ylabel('Error')\n",
    "plt.title('Training error vs validation error')\n",
    "plt.show()"
   ]
  },
  {
   "cell_type": "code",
   "execution_count": 149,
   "metadata": {},
   "outputs": [
    {
     "data": {
      "image/png": "[encoded data removed]",
      "text/plain": [
       "<Figure size 864x720 with 1 Axes>"
      ]
     },
     "metadata": {
      "needs_background": "light"
     },
     "output_type": "display_data"
    }
   ],
   "source": [
    "plt.figure(figsize=(12, 10))\n",
    "\n",
    "plt.plot(degrees[0:3], tr_errors[0:3], label = 'Train')\n",
    "plt.plot(degrees[0:3], val_errors[0:3],label = 'Validation')\n",
    "plt.legend(loc = 'upper left')\n",
    "\n",
    "plt.xlabel('Degree')\n",
    "plt.ylabel('Error')\n",
    "plt.title('Training error vs validation error')\n",
    "plt.show()"
   ]
  }
 ],
 "metadata": {
  "interpreter": {
   "hash": "d2f52df5a460228cd4687b16ec22f61bc9e4c3dce082c66d62c2a9cce4c748a7"
  },
  "kernelspec": {
   "display_name": "Python 3.10.2 64-bit (windows store)",
   "language": "python",
   "name": "python3"
  },
  "language_info": {
   "codemirror_mode": {
    "name": "ipython",
    "version": 3
   },
   "file_extension": ".py",
   "mimetype": "text/x-python",
   "name": "python",
   "nbconvert_exporter": "python",
   "pygments_lexer": "ipython3",
   "version": "3.10.2"
  },
  "orig_nbformat": 4
 },
 "nbformat": 4,
 "nbformat_minor": 2
}
